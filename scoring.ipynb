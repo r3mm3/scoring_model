{
 "cells": [
  {
   "cell_type": "code",
   "execution_count": 1,
   "metadata": {},
   "outputs": [],
   "source": [
    "# импортируем необходимые библиотеки\n",
    "import pandas as pd \n",
    "from sklearn.linear_model import LinearRegression\n",
    "from sklearn.ensemble import RandomForestRegressor\n",
    "from sklearn.model_selection import train_test_split\n",
    "from sklearn.metrics import mean_squared_error\n",
    "from sklearn.preprocessing import OneHotEncoder\n",
    "from sklearn.preprocessing import OrdinalEncoder\n",
    "from sklearn.model_selection import GridSearchCV\n",
    "import numpy as np"
   ]
  },
  {
   "cell_type": "code",
   "execution_count": null,
   "metadata": {},
   "outputs": [],
   "source": []
  },
  {
   "cell_type": "code",
   "execution_count": 2,
   "metadata": {},
   "outputs": [],
   "source": [
    "# загружаем исходные данные из файла Excel с помощью метода read_excel библиотеки Pandas\n",
    "df = pd.read_excel('ds_teachers.xlsx')"
   ]
  },
  {
   "cell_type": "code",
   "execution_count": 3,
   "metadata": {},
   "outputs": [],
   "source": [
    "# удаляем дубликаты строк\n",
    "df.drop_duplicates(inplace=True)\n",
    "# удаляем строки, содержащие пропущенные значения\n",
    "df.dropna(inplace=True)\n",
    "# удаляем строки, содержащие определенные значения в столбце 'value_shortTitle'\n",
    "df.drop(df[df['value_shortTitle'] == 'недсд.'].index, inplace = True)\n",
    "df.drop(df[df['value_shortTitle'] == 'уваж.'].index, inplace = True)\n",
    "df.drop(df[df['value_shortTitle'] == 'недоп.'].index, inplace = True)\n",
    "\n",
    "# заменяем значения в столбце 'value_shortTitle' на числовые значения\n",
    "No_val = [\n",
    "    ['з', 5],\n",
    "    ['н/я', 0],\n",
    "    ['н/з', 2]\n",
    "]\n",
    "for i in No_val:\n",
    "    df['value_shortTitle'] = df['value_shortTitle'].replace(i[0], i[1])\n"
   ]
  },
  {
   "cell_type": "code",
   "execution_count": 4,
   "metadata": {},
   "outputs": [],
   "source": [
    "# создаем новый DataFrame, копируя исходный\n",
    "df_dup = df"
   ]
  },
  {
   "cell_type": "code",
   "execution_count": 5,
   "metadata": {},
   "outputs": [],
   "source": [
    "# выбираем только нужные столбцы из DataFrame и сохраняем в новый DataFrame\n",
    "teacher_short_df = df[['teacher','student_booknumber','value_shortTitle']]"
   ]
  },
  {
   "cell_type": "code",
   "execution_count": 6,
   "metadata": {},
   "outputs": [
    {
     "name": "stderr",
     "output_type": "stream",
     "text": [
      "/tmp/ipykernel_48778/2999483786.py:1: SettingWithCopyWarning: \n",
      "A value is trying to be set on a copy of a slice from a DataFrame\n",
      "\n",
      "See the caveats in the documentation: https://pandas.pydata.org/pandas-docs/stable/user_guide/indexing.html#returning-a-view-versus-a-copy\n",
      "  teacher_short_df.drop(teacher_short_df[teacher_short_df['teacher'].str.contains('.,')].index, inplace = True)\n"
     ]
    }
   ],
   "source": [
    "# удаляем строки, содержащие точку и запятую в столбце 'teacher'\n",
    "teacher_short_df.drop(teacher_short_df[teacher_short_df['teacher'].str.contains('.,')].index, inplace = True)"
   ]
  },
  {
   "cell_type": "code",
   "execution_count": 7,
   "metadata": {},
   "outputs": [
    {
     "data": {
      "text/plain": [
       "teacher               481\n",
       "student_booknumber    999\n",
       "value_shortTitle        5\n",
       "dtype: int64"
      ]
     },
     "execution_count": 7,
     "metadata": {},
     "output_type": "execute_result"
    }
   ],
   "source": [
    "\n",
    "# выводим количество уникальных значений в каждом столбце нового DataFrame\n",
    "teacher_short_df.nunique()"
   ]
  },
  {
   "cell_type": "code",
   "execution_count": 8,
   "metadata": {},
   "outputs": [
    {
     "data": {
      "text/plain": [
       "0        5\n",
       "1        4\n",
       "2        5\n",
       "3        4\n",
       "4        5\n",
       "        ..\n",
       "79808    5\n",
       "79809    3\n",
       "79810    3\n",
       "79811    3\n",
       "79812    3\n",
       "Name: value_shortTitle, Length: 69109, dtype: int64"
      ]
     },
     "execution_count": 8,
     "metadata": {},
     "output_type": "execute_result"
    }
   ],
   "source": [
    "# преобразуем значения в столбце 'value_shortTitle' в целочисленный тип\n",
    "teacher_short_df['value_shortTitle'].astype(int)"
   ]
  },
  {
   "cell_type": "code",
   "execution_count": 9,
   "metadata": {},
   "outputs": [],
   "source": [
    "\n",
    "# получаем список преподавателей\n",
    "teacher_list = teacher_short_df['teacher'].unique()"
   ]
  },
  {
   "cell_type": "code",
   "execution_count": 10,
   "metadata": {},
   "outputs": [],
   "source": [
    "\n",
    "# создаем пустой список arr для хранения результатов\n",
    "arr = []"
   ]
  },
  {
   "cell_type": "code",
   "execution_count": 11,
   "metadata": {},
   "outputs": [],
   "source": [
    "# обходим список преподавателей\n",
    "for number_iter,cnt in enumerate(teacher_list):\n",
    "    # фильтруем DataFrame по преподавателю cnt\n",
    "    temp_df = teacher_short_df[teacher_short_df['teacher'] == cnt]\n",
    "    # получаем количество уникальных студентов, оценок и среднюю оценку по преподавателю cnt\n",
    "    dep_count_stud = temp_df['student_booknumber'].nunique()\n",
    "    dep_count_marks = sum(temp_df['value_shortTitle'])\n",
    "    dep_avg = dep_count_marks / dep_count_stud\n",
    "    # добавляем запись со значениями в список arr\n",
    "    arr.append([cnt,number_iter,dep_count_stud,dep_avg])\n"
   ]
  },
  {
   "cell_type": "code",
   "execution_count": 12,
   "metadata": {},
   "outputs": [],
   "source": [
    "# задаем названия столбцов для нового DataFrame\n",
    "colname = ['teacher', 'cat_teacher','cnt_stud', 'avg_mark']\n",
    "# создаем новый DataFrame с помощью списка arr и названий столбцов colname\n",
    "df_cnt = pd.DataFrame(arr, columns= colname)"
   ]
  },
  {
   "cell_type": "code",
   "execution_count": 13,
   "metadata": {},
   "outputs": [
    {
     "data": {
      "text/html": [
       "<div>\n",
       "<style scoped>\n",
       "    .dataframe tbody tr th:only-of-type {\n",
       "        vertical-align: middle;\n",
       "    }\n",
       "\n",
       "    .dataframe tbody tr th {\n",
       "        vertical-align: top;\n",
       "    }\n",
       "\n",
       "    .dataframe thead th {\n",
       "        text-align: right;\n",
       "    }\n",
       "</style>\n",
       "<table border=\"1\" class=\"dataframe\">\n",
       "  <thead>\n",
       "    <tr style=\"text-align: right;\">\n",
       "      <th></th>\n",
       "      <th>teacher</th>\n",
       "      <th>cat_teacher</th>\n",
       "      <th>cnt_stud</th>\n",
       "      <th>avg_mark</th>\n",
       "    </tr>\n",
       "  </thead>\n",
       "  <tbody>\n",
       "    <tr>\n",
       "      <th>0</th>\n",
       "      <td>Соловьев С.В.</td>\n",
       "      <td>0</td>\n",
       "      <td>44</td>\n",
       "      <td>20.181818</td>\n",
       "    </tr>\n",
       "    <tr>\n",
       "      <th>1</th>\n",
       "      <td>Катункина Е.В.</td>\n",
       "      <td>1</td>\n",
       "      <td>48</td>\n",
       "      <td>24.312500</td>\n",
       "    </tr>\n",
       "    <tr>\n",
       "      <th>2</th>\n",
       "      <td>Тепляков А.Г.</td>\n",
       "      <td>2</td>\n",
       "      <td>168</td>\n",
       "      <td>5.720238</td>\n",
       "    </tr>\n",
       "    <tr>\n",
       "      <th>3</th>\n",
       "      <td>Султанова Е.С.</td>\n",
       "      <td>3</td>\n",
       "      <td>20</td>\n",
       "      <td>6.100000</td>\n",
       "    </tr>\n",
       "    <tr>\n",
       "      <th>4</th>\n",
       "      <td>Романова Н.Г.</td>\n",
       "      <td>4</td>\n",
       "      <td>227</td>\n",
       "      <td>8.916300</td>\n",
       "    </tr>\n",
       "    <tr>\n",
       "      <th>...</th>\n",
       "      <td>...</td>\n",
       "      <td>...</td>\n",
       "      <td>...</td>\n",
       "      <td>...</td>\n",
       "    </tr>\n",
       "    <tr>\n",
       "      <th>476</th>\n",
       "      <td>Гумерова А.А.</td>\n",
       "      <td>476</td>\n",
       "      <td>18</td>\n",
       "      <td>4.111111</td>\n",
       "    </tr>\n",
       "    <tr>\n",
       "      <th>477</th>\n",
       "      <td>Лукашенко О.А.</td>\n",
       "      <td>477</td>\n",
       "      <td>7</td>\n",
       "      <td>10.000000</td>\n",
       "    </tr>\n",
       "    <tr>\n",
       "      <th>478</th>\n",
       "      <td>Чельцов М.В.</td>\n",
       "      <td>478</td>\n",
       "      <td>10</td>\n",
       "      <td>8.500000</td>\n",
       "    </tr>\n",
       "    <tr>\n",
       "      <th>479</th>\n",
       "      <td>Басманова Л.В.</td>\n",
       "      <td>479</td>\n",
       "      <td>5</td>\n",
       "      <td>10.000000</td>\n",
       "    </tr>\n",
       "    <tr>\n",
       "      <th>480</th>\n",
       "      <td>Гинтофт А.С.</td>\n",
       "      <td>480</td>\n",
       "      <td>2</td>\n",
       "      <td>1.500000</td>\n",
       "    </tr>\n",
       "  </tbody>\n",
       "</table>\n",
       "<p>481 rows × 4 columns</p>\n",
       "</div>"
      ],
      "text/plain": [
       "            teacher  cat_teacher  cnt_stud   avg_mark\n",
       "0     Соловьев С.В.            0        44  20.181818\n",
       "1    Катункина Е.В.            1        48  24.312500\n",
       "2     Тепляков А.Г.            2       168   5.720238\n",
       "3    Султанова Е.С.            3        20   6.100000\n",
       "4     Романова Н.Г.            4       227   8.916300\n",
       "..              ...          ...       ...        ...\n",
       "476   Гумерова А.А.          476        18   4.111111\n",
       "477  Лукашенко О.А.          477         7  10.000000\n",
       "478    Чельцов М.В.          478        10   8.500000\n",
       "479  Басманова Л.В.          479         5  10.000000\n",
       "480    Гинтофт А.С.          480         2   1.500000\n",
       "\n",
       "[481 rows x 4 columns]"
      ]
     },
     "execution_count": 13,
     "metadata": {},
     "output_type": "execute_result"
    }
   ],
   "source": [
    "df_cnt"
   ]
  },
  {
   "cell_type": "code",
   "execution_count": 32,
   "metadata": {},
   "outputs": [],
   "source": [
    "# сливаем два DataFrame по столбцу 'teacher'\n",
    "df_feat = pd.merge(teacher_short_df, df_cnt[['teacher', 'cat_teacher','cnt_stud', 'avg_mark']], on='teacher')"
   ]
  },
  {
   "cell_type": "code",
   "execution_count": 33,
   "metadata": {},
   "outputs": [
    {
     "data": {
      "text/html": [
       "<div>\n",
       "<style scoped>\n",
       "    .dataframe tbody tr th:only-of-type {\n",
       "        vertical-align: middle;\n",
       "    }\n",
       "\n",
       "    .dataframe tbody tr th {\n",
       "        vertical-align: top;\n",
       "    }\n",
       "\n",
       "    .dataframe thead th {\n",
       "        text-align: right;\n",
       "    }\n",
       "</style>\n",
       "<table border=\"1\" class=\"dataframe\">\n",
       "  <thead>\n",
       "    <tr style=\"text-align: right;\">\n",
       "      <th></th>\n",
       "      <th>teacher</th>\n",
       "      <th>student_booknumber</th>\n",
       "      <th>value_shortTitle</th>\n",
       "      <th>cat_teacher</th>\n",
       "      <th>cnt_stud</th>\n",
       "      <th>avg_mark</th>\n",
       "    </tr>\n",
       "  </thead>\n",
       "  <tbody>\n",
       "    <tr>\n",
       "      <th>0</th>\n",
       "      <td>Соловьев С.В.</td>\n",
       "      <td>171158</td>\n",
       "      <td>5</td>\n",
       "      <td>0</td>\n",
       "      <td>44</td>\n",
       "      <td>20.181818</td>\n",
       "    </tr>\n",
       "    <tr>\n",
       "      <th>1</th>\n",
       "      <td>Соловьев С.В.</td>\n",
       "      <td>171158</td>\n",
       "      <td>4</td>\n",
       "      <td>0</td>\n",
       "      <td>44</td>\n",
       "      <td>20.181818</td>\n",
       "    </tr>\n",
       "    <tr>\n",
       "      <th>2</th>\n",
       "      <td>Соловьев С.В.</td>\n",
       "      <td>171158</td>\n",
       "      <td>5</td>\n",
       "      <td>0</td>\n",
       "      <td>44</td>\n",
       "      <td>20.181818</td>\n",
       "    </tr>\n",
       "    <tr>\n",
       "      <th>3</th>\n",
       "      <td>Соловьев С.В.</td>\n",
       "      <td>191629</td>\n",
       "      <td>5</td>\n",
       "      <td>0</td>\n",
       "      <td>44</td>\n",
       "      <td>20.181818</td>\n",
       "    </tr>\n",
       "    <tr>\n",
       "      <th>4</th>\n",
       "      <td>Соловьев С.В.</td>\n",
       "      <td>191630</td>\n",
       "      <td>5</td>\n",
       "      <td>0</td>\n",
       "      <td>44</td>\n",
       "      <td>20.181818</td>\n",
       "    </tr>\n",
       "    <tr>\n",
       "      <th>...</th>\n",
       "      <td>...</td>\n",
       "      <td>...</td>\n",
       "      <td>...</td>\n",
       "      <td>...</td>\n",
       "      <td>...</td>\n",
       "      <td>...</td>\n",
       "    </tr>\n",
       "    <tr>\n",
       "      <th>69104</th>\n",
       "      <td>Басманова Л.В.</td>\n",
       "      <td>150692</td>\n",
       "      <td>5</td>\n",
       "      <td>479</td>\n",
       "      <td>5</td>\n",
       "      <td>10.000000</td>\n",
       "    </tr>\n",
       "    <tr>\n",
       "      <th>69105</th>\n",
       "      <td>Басманова Л.В.</td>\n",
       "      <td>194623</td>\n",
       "      <td>5</td>\n",
       "      <td>479</td>\n",
       "      <td>5</td>\n",
       "      <td>10.000000</td>\n",
       "    </tr>\n",
       "    <tr>\n",
       "      <th>69106</th>\n",
       "      <td>Басманова Л.В.</td>\n",
       "      <td>181989</td>\n",
       "      <td>5</td>\n",
       "      <td>479</td>\n",
       "      <td>5</td>\n",
       "      <td>10.000000</td>\n",
       "    </tr>\n",
       "    <tr>\n",
       "      <th>69107</th>\n",
       "      <td>Гинтофт А.С.</td>\n",
       "      <td>180149</td>\n",
       "      <td>3</td>\n",
       "      <td>480</td>\n",
       "      <td>2</td>\n",
       "      <td>1.500000</td>\n",
       "    </tr>\n",
       "    <tr>\n",
       "      <th>69108</th>\n",
       "      <td>Гинтофт А.С.</td>\n",
       "      <td>180229</td>\n",
       "      <td>0</td>\n",
       "      <td>480</td>\n",
       "      <td>2</td>\n",
       "      <td>1.500000</td>\n",
       "    </tr>\n",
       "  </tbody>\n",
       "</table>\n",
       "<p>69109 rows × 6 columns</p>\n",
       "</div>"
      ],
      "text/plain": [
       "              teacher  student_booknumber  value_shortTitle  cat_teacher   \n",
       "0       Соловьев С.В.              171158                 5            0  \\\n",
       "1       Соловьев С.В.              171158                 4            0   \n",
       "2       Соловьев С.В.              171158                 5            0   \n",
       "3       Соловьев С.В.              191629                 5            0   \n",
       "4       Соловьев С.В.              191630                 5            0   \n",
       "...               ...                 ...               ...          ...   \n",
       "69104  Басманова Л.В.              150692                 5          479   \n",
       "69105  Басманова Л.В.              194623                 5          479   \n",
       "69106  Басманова Л.В.              181989                 5          479   \n",
       "69107    Гинтофт А.С.              180149                 3          480   \n",
       "69108    Гинтофт А.С.              180229                 0          480   \n",
       "\n",
       "       cnt_stud   avg_mark  \n",
       "0            44  20.181818  \n",
       "1            44  20.181818  \n",
       "2            44  20.181818  \n",
       "3            44  20.181818  \n",
       "4            44  20.181818  \n",
       "...         ...        ...  \n",
       "69104         5  10.000000  \n",
       "69105         5  10.000000  \n",
       "69106         5  10.000000  \n",
       "69107         2   1.500000  \n",
       "69108         2   1.500000  \n",
       "\n",
       "[69109 rows x 6 columns]"
      ]
     },
     "execution_count": 33,
     "metadata": {},
     "output_type": "execute_result"
    }
   ],
   "source": [
    "df_feat"
   ]
  },
  {
   "cell_type": "code",
   "execution_count": 34,
   "metadata": {},
   "outputs": [],
   "source": [
    "# создаем объект OrdinalEncoder для преобразования категориальных значений в числовые\n",
    "oe = OrdinalEncoder()\n",
    "\n",
    "# преобразуем категории в числовые значения\n",
    "encoded_cat_teacher = oe.fit_transform(df_feat[['cat_teacher']])\n",
    "\n",
    "# заменяем значения в столбце 'teacher' на закодированные значения\n",
    "df_feat['teacher'] = encoded_cat_teacher.flatten()"
   ]
  },
  {
   "cell_type": "code",
   "execution_count": 17,
   "metadata": {},
   "outputs": [
    {
     "data": {
      "text/html": [
       "<div>\n",
       "<style scoped>\n",
       "    .dataframe tbody tr th:only-of-type {\n",
       "        vertical-align: middle;\n",
       "    }\n",
       "\n",
       "    .dataframe tbody tr th {\n",
       "        vertical-align: top;\n",
       "    }\n",
       "\n",
       "    .dataframe thead th {\n",
       "        text-align: right;\n",
       "    }\n",
       "</style>\n",
       "<table border=\"1\" class=\"dataframe\">\n",
       "  <thead>\n",
       "    <tr style=\"text-align: right;\">\n",
       "      <th></th>\n",
       "      <th>teacher</th>\n",
       "      <th>student_booknumber</th>\n",
       "      <th>value_shortTitle</th>\n",
       "      <th>cat_teacher</th>\n",
       "      <th>cnt_stud</th>\n",
       "      <th>avg_mark</th>\n",
       "    </tr>\n",
       "  </thead>\n",
       "  <tbody>\n",
       "    <tr>\n",
       "      <th>0</th>\n",
       "      <td>0.0</td>\n",
       "      <td>171158</td>\n",
       "      <td>5</td>\n",
       "      <td>0</td>\n",
       "      <td>44</td>\n",
       "      <td>20.181818</td>\n",
       "    </tr>\n",
       "    <tr>\n",
       "      <th>1</th>\n",
       "      <td>0.0</td>\n",
       "      <td>171158</td>\n",
       "      <td>4</td>\n",
       "      <td>0</td>\n",
       "      <td>44</td>\n",
       "      <td>20.181818</td>\n",
       "    </tr>\n",
       "    <tr>\n",
       "      <th>2</th>\n",
       "      <td>0.0</td>\n",
       "      <td>171158</td>\n",
       "      <td>5</td>\n",
       "      <td>0</td>\n",
       "      <td>44</td>\n",
       "      <td>20.181818</td>\n",
       "    </tr>\n",
       "    <tr>\n",
       "      <th>3</th>\n",
       "      <td>0.0</td>\n",
       "      <td>191629</td>\n",
       "      <td>5</td>\n",
       "      <td>0</td>\n",
       "      <td>44</td>\n",
       "      <td>20.181818</td>\n",
       "    </tr>\n",
       "    <tr>\n",
       "      <th>4</th>\n",
       "      <td>0.0</td>\n",
       "      <td>191630</td>\n",
       "      <td>5</td>\n",
       "      <td>0</td>\n",
       "      <td>44</td>\n",
       "      <td>20.181818</td>\n",
       "    </tr>\n",
       "    <tr>\n",
       "      <th>...</th>\n",
       "      <td>...</td>\n",
       "      <td>...</td>\n",
       "      <td>...</td>\n",
       "      <td>...</td>\n",
       "      <td>...</td>\n",
       "      <td>...</td>\n",
       "    </tr>\n",
       "    <tr>\n",
       "      <th>69104</th>\n",
       "      <td>479.0</td>\n",
       "      <td>150692</td>\n",
       "      <td>5</td>\n",
       "      <td>479</td>\n",
       "      <td>5</td>\n",
       "      <td>10.000000</td>\n",
       "    </tr>\n",
       "    <tr>\n",
       "      <th>69105</th>\n",
       "      <td>479.0</td>\n",
       "      <td>194623</td>\n",
       "      <td>5</td>\n",
       "      <td>479</td>\n",
       "      <td>5</td>\n",
       "      <td>10.000000</td>\n",
       "    </tr>\n",
       "    <tr>\n",
       "      <th>69106</th>\n",
       "      <td>479.0</td>\n",
       "      <td>181989</td>\n",
       "      <td>5</td>\n",
       "      <td>479</td>\n",
       "      <td>5</td>\n",
       "      <td>10.000000</td>\n",
       "    </tr>\n",
       "    <tr>\n",
       "      <th>69107</th>\n",
       "      <td>480.0</td>\n",
       "      <td>180149</td>\n",
       "      <td>3</td>\n",
       "      <td>480</td>\n",
       "      <td>2</td>\n",
       "      <td>1.500000</td>\n",
       "    </tr>\n",
       "    <tr>\n",
       "      <th>69108</th>\n",
       "      <td>480.0</td>\n",
       "      <td>180229</td>\n",
       "      <td>0</td>\n",
       "      <td>480</td>\n",
       "      <td>2</td>\n",
       "      <td>1.500000</td>\n",
       "    </tr>\n",
       "  </tbody>\n",
       "</table>\n",
       "<p>69109 rows × 6 columns</p>\n",
       "</div>"
      ],
      "text/plain": [
       "       teacher  student_booknumber  value_shortTitle  cat_teacher  cnt_stud   \n",
       "0          0.0              171158                 5            0        44  \\\n",
       "1          0.0              171158                 4            0        44   \n",
       "2          0.0              171158                 5            0        44   \n",
       "3          0.0              191629                 5            0        44   \n",
       "4          0.0              191630                 5            0        44   \n",
       "...        ...                 ...               ...          ...       ...   \n",
       "69104    479.0              150692                 5          479         5   \n",
       "69105    479.0              194623                 5          479         5   \n",
       "69106    479.0              181989                 5          479         5   \n",
       "69107    480.0              180149                 3          480         2   \n",
       "69108    480.0              180229                 0          480         2   \n",
       "\n",
       "        avg_mark  \n",
       "0      20.181818  \n",
       "1      20.181818  \n",
       "2      20.181818  \n",
       "3      20.181818  \n",
       "4      20.181818  \n",
       "...          ...  \n",
       "69104  10.000000  \n",
       "69105  10.000000  \n",
       "69106  10.000000  \n",
       "69107   1.500000  \n",
       "69108   1.500000  \n",
       "\n",
       "[69109 rows x 6 columns]"
      ]
     },
     "execution_count": 17,
     "metadata": {},
     "output_type": "execute_result"
    }
   ],
   "source": [
    "df_feat"
   ]
  },
  {
   "cell_type": "code",
   "execution_count": 18,
   "metadata": {},
   "outputs": [],
   "source": [
    "# Разделяем данные на признаки (X) и целевую переменную (y)\n",
    "X = df_feat.drop('avg_mark', axis=1)\n",
    "y = df_feat['avg_mark']\n",
    "\n",
    "# Разделяем данные на тренировочную и тестовую выборки\n",
    "X_train, X_test, y_train, y_test = train_test_split(X, y, test_size=0.2, random_state=42)"
   ]
  },
  {
   "cell_type": "code",
   "execution_count": 19,
   "metadata": {},
   "outputs": [
    {
     "data": {
      "text/html": [
       "<style>#sk-container-id-1 {color: black;background-color: white;}#sk-container-id-1 pre{padding: 0;}#sk-container-id-1 div.sk-toggleable {background-color: white;}#sk-container-id-1 label.sk-toggleable__label {cursor: pointer;display: block;width: 100%;margin-bottom: 0;padding: 0.3em;box-sizing: border-box;text-align: center;}#sk-container-id-1 label.sk-toggleable__label-arrow:before {content: \"▸\";float: left;margin-right: 0.25em;color: #696969;}#sk-container-id-1 label.sk-toggleable__label-arrow:hover:before {color: black;}#sk-container-id-1 div.sk-estimator:hover label.sk-toggleable__label-arrow:before {color: black;}#sk-container-id-1 div.sk-toggleable__content {max-height: 0;max-width: 0;overflow: hidden;text-align: left;background-color: #f0f8ff;}#sk-container-id-1 div.sk-toggleable__content pre {margin: 0.2em;color: black;border-radius: 0.25em;background-color: #f0f8ff;}#sk-container-id-1 input.sk-toggleable__control:checked~div.sk-toggleable__content {max-height: 200px;max-width: 100%;overflow: auto;}#sk-container-id-1 input.sk-toggleable__control:checked~label.sk-toggleable__label-arrow:before {content: \"▾\";}#sk-container-id-1 div.sk-estimator input.sk-toggleable__control:checked~label.sk-toggleable__label {background-color: #d4ebff;}#sk-container-id-1 div.sk-label input.sk-toggleable__control:checked~label.sk-toggleable__label {background-color: #d4ebff;}#sk-container-id-1 input.sk-hidden--visually {border: 0;clip: rect(1px 1px 1px 1px);clip: rect(1px, 1px, 1px, 1px);height: 1px;margin: -1px;overflow: hidden;padding: 0;position: absolute;width: 1px;}#sk-container-id-1 div.sk-estimator {font-family: monospace;background-color: #f0f8ff;border: 1px dotted black;border-radius: 0.25em;box-sizing: border-box;margin-bottom: 0.5em;}#sk-container-id-1 div.sk-estimator:hover {background-color: #d4ebff;}#sk-container-id-1 div.sk-parallel-item::after {content: \"\";width: 100%;border-bottom: 1px solid gray;flex-grow: 1;}#sk-container-id-1 div.sk-label:hover label.sk-toggleable__label {background-color: #d4ebff;}#sk-container-id-1 div.sk-serial::before {content: \"\";position: absolute;border-left: 1px solid gray;box-sizing: border-box;top: 0;bottom: 0;left: 50%;z-index: 0;}#sk-container-id-1 div.sk-serial {display: flex;flex-direction: column;align-items: center;background-color: white;padding-right: 0.2em;padding-left: 0.2em;position: relative;}#sk-container-id-1 div.sk-item {position: relative;z-index: 1;}#sk-container-id-1 div.sk-parallel {display: flex;align-items: stretch;justify-content: center;background-color: white;position: relative;}#sk-container-id-1 div.sk-item::before, #sk-container-id-1 div.sk-parallel-item::before {content: \"\";position: absolute;border-left: 1px solid gray;box-sizing: border-box;top: 0;bottom: 0;left: 50%;z-index: -1;}#sk-container-id-1 div.sk-parallel-item {display: flex;flex-direction: column;z-index: 1;position: relative;background-color: white;}#sk-container-id-1 div.sk-parallel-item:first-child::after {align-self: flex-end;width: 50%;}#sk-container-id-1 div.sk-parallel-item:last-child::after {align-self: flex-start;width: 50%;}#sk-container-id-1 div.sk-parallel-item:only-child::after {width: 0;}#sk-container-id-1 div.sk-dashed-wrapped {border: 1px dashed gray;margin: 0 0.4em 0.5em 0.4em;box-sizing: border-box;padding-bottom: 0.4em;background-color: white;}#sk-container-id-1 div.sk-label label {font-family: monospace;font-weight: bold;display: inline-block;line-height: 1.2em;}#sk-container-id-1 div.sk-label-container {text-align: center;}#sk-container-id-1 div.sk-container {/* jupyter's `normalize.less` sets `[hidden] { display: none; }` but bootstrap.min.css set `[hidden] { display: none !important; }` so we also need the `!important` here to be able to override the default hidden behavior on the sphinx rendered scikit-learn.org. See: https://github.com/scikit-learn/scikit-learn/issues/21755 */display: inline-block !important;position: relative;}#sk-container-id-1 div.sk-text-repr-fallback {display: none;}</style><div id=\"sk-container-id-1\" class=\"sk-top-container\"><div class=\"sk-text-repr-fallback\"><pre>LinearRegression()</pre><b>In a Jupyter environment, please rerun this cell to show the HTML representation or trust the notebook. <br />On GitHub, the HTML representation is unable to render, please try loading this page with nbviewer.org.</b></div><div class=\"sk-container\" hidden><div class=\"sk-item\"><div class=\"sk-estimator sk-toggleable\"><input class=\"sk-toggleable__control sk-hidden--visually\" id=\"sk-estimator-id-1\" type=\"checkbox\" checked><label for=\"sk-estimator-id-1\" class=\"sk-toggleable__label sk-toggleable__label-arrow\">LinearRegression</label><div class=\"sk-toggleable__content\"><pre>LinearRegression()</pre></div></div></div></div></div>"
      ],
      "text/plain": [
       "LinearRegression()"
      ]
     },
     "execution_count": 19,
     "metadata": {},
     "output_type": "execute_result"
    }
   ],
   "source": [
    "#Создаем объект линейной регрессии и обучаем его на разделенных выборках\n",
    "lr = LinearRegression()\n",
    "lr.fit(X_train, y_train)"
   ]
  },
  {
   "cell_type": "code",
   "execution_count": 20,
   "metadata": {},
   "outputs": [],
   "source": [
    "#Запускаем прогнозирование по модели\n",
    "y_pred = lr.predict(X_test)"
   ]
  },
  {
   "cell_type": "code",
   "execution_count": 21,
   "metadata": {},
   "outputs": [
    {
     "name": "stdout",
     "output_type": "stream",
     "text": [
      "MSE:  85.07015332432233\n"
     ]
    }
   ],
   "source": [
    "#Оцениваем качество модели на тестовых данных, рассчитывая среднеквадратичную ошибку (mean squared error, MSE):\n",
    "mse = mean_squared_error(y_test, y_pred)\n",
    "print('MSE: ', mse)\n",
    "#Поскольку MSE показывает слишком высокие значения, необходимо подбирать гиперпараметры"
   ]
  },
  {
   "cell_type": "code",
   "execution_count": 22,
   "metadata": {},
   "outputs": [
    {
     "name": "stdout",
     "output_type": "stream",
     "text": [
      "Best parameters:  {'copy_X': True, 'fit_intercept': True, 'n_jobs': 1, 'positive': False}\n",
      "MSE:  0.2108463934848035\n"
     ]
    }
   ],
   "source": [
    "#Создаем сетку параметров\n",
    "param_grid = {\n",
    "    'fit_intercept': [True, False],\n",
    "    'copy_X': [True, False],\n",
    "    'n_jobs': [1, -1],\n",
    "    'positive': [True, False]\n",
    "}\n",
    "\n",
    "\n",
    "# Создаем объект GridSearchCV и передаем ему модель, сетку параметров и количество фолдов для кросс-валидации\n",
    "grid_search = GridSearchCV(lr, param_grid, cv=5)\n",
    "\n",
    "# Обучаем объект GridSearchCV на тренировочных данных\n",
    "grid_search.fit(X_train, y_train)\n",
    "\n",
    "# Получаем лучшую комбинацию параметров и соответствующее значение MSE\n",
    "print('Best parameters: ', grid_search.best_params_)\n",
    "print('MSE: ', grid_search.best_score_)"
   ]
  },
  {
   "cell_type": "code",
   "execution_count": 23,
   "metadata": {},
   "outputs": [],
   "source": [
    "#Создаем новую модель линейной регрессии по подобранным параметрам\n",
    "lr_new = LinearRegression(copy_X=True, fit_intercept=True, n_jobs= 1, positive=False)"
   ]
  },
  {
   "cell_type": "code",
   "execution_count": 24,
   "metadata": {},
   "outputs": [
    {
     "name": "stdout",
     "output_type": "stream",
     "text": [
      "MSE for new model:  85.07015332432233\n"
     ]
    }
   ],
   "source": [
    "#Проводим обучение, тестирование модели по новым гиперпараметрам\n",
    "lr_new.fit(X_train, y_train)\n",
    "y_pred_new = lr_new.predict(X_test)\n",
    "mse_new = mean_squared_error(y_test, y_pred_new)\n",
    "print('MSE for new model: ', mse_new)\n",
    "#Значение MSE слишком высокое - отправляем на перемоделирование"
   ]
  },
  {
   "cell_type": "code",
   "execution_count": 25,
   "metadata": {},
   "outputs": [
    {
     "name": "stdout",
     "output_type": "stream",
     "text": [
      "MSE on test set: 85.07015332432233\n"
     ]
    }
   ],
   "source": [
    "y_pred = grid_search.best_estimator_.predict(X_test)\n",
    "mse = mean_squared_error(y_test, y_pred)\n",
    "print('MSE on test set:', mse)"
   ]
  },
  {
   "cell_type": "code",
   "execution_count": 26,
   "metadata": {},
   "outputs": [
    {
     "name": "stdout",
     "output_type": "stream",
     "text": [
      "MSE on test set: 0.038249582366955776\n"
     ]
    }
   ],
   "source": [
    "\n",
    "\n",
    "# Создаем объект модели\n",
    "rf = RandomForestRegressor(n_estimators=100, random_state=42)\n",
    "\n",
    "# Обучаем модель на тренировочных данных\n",
    "rf.fit(X_train, y_train)\n",
    "\n",
    "# Оцениваем качество модели на тестовых данных\n",
    "y_pred = rf.predict(X_test)\n",
    "mse = mean_squared_error(y_test, y_pred)\n",
    "print('MSE on test set:', mse)\n",
    "#MSE - тест показывает очень хорошие результаты"
   ]
  },
  {
   "cell_type": "code",
   "execution_count": 27,
   "metadata": {},
   "outputs": [
    {
     "name": "stdout",
     "output_type": "stream",
     "text": [
      "       cat_teacher  cnt_stud  predicted_avg_mark\n",
      "110              0        44           20.181818\n",
      "30717          142       174           10.362069\n",
      "13889           44       211            6.696682\n",
      "8317            15       254            9.637795\n",
      "22914           96       189           17.957672\n",
      "...            ...       ...                 ...\n",
      "53614          297        78           13.846154\n",
      "20941           79       145            6.937931\n",
      "30380          140        46           22.956522\n",
      "66011          416       115           11.652174\n",
      "18937           73       420            5.135714\n",
      "\n",
      "[13822 rows x 3 columns]\n"
     ]
    }
   ],
   "source": [
    "#тем создается новый столбец \"predicted_avg_mark\" в датафрейме X_test с предсказанными средними оценками:\n",
    "X_test['predicted_avg_mark'] = rf.predict(X_test)\n",
    "print(X_test[['cat_teacher', 'cnt_stud', 'predicted_avg_mark']])"
   ]
  },
  {
   "cell_type": "code",
   "execution_count": null,
   "metadata": {},
   "outputs": [],
   "source": []
  },
  {
   "cell_type": "code",
   "execution_count": 35,
   "metadata": {},
   "outputs": [
    {
     "name": "stdout",
     "output_type": "stream",
     "text": [
      "       teacher  weighted_avg\n",
      "4765       5.0      19342.00\n",
      "3809       5.0      19342.00\n",
      "3785       5.0      19342.00\n",
      "3784       5.0      19342.00\n",
      "3783       5.0      19342.00\n",
      "...        ...           ...\n",
      "69107    480.0          5.16\n",
      "69108    480.0          5.01\n",
      "45945    241.0          3.87\n",
      "45944    241.0          3.87\n",
      "45943    241.0          3.87\n",
      "\n",
      "[69109 rows x 2 columns]\n"
     ]
    }
   ],
   "source": [
    "# Добавляем столбец с предсказанными средними оценками в DataFrame df_cnt\n",
    "df_feat['predicted_avg_mark'] = rf.predict(df_feat.drop('avg_mark', axis=1))\n",
    "\n",
    "# Рассчитываем взвешенную сумму средних оценок для каждого преподавателя\n",
    "weighted_avg = []\n",
    "for index, row in df_feat.iterrows():\n",
    "    weighted_avg.append(row['predicted_avg_mark']*row['cnt_stud'])\n",
    "df_feat['weighted_avg'] = weighted_avg\n",
    "df_feat = df_feat.sort_values('weighted_avg', ascending=False)\n",
    "\n",
    "# Выводим отсортированный по рейтингу DataFrame\n",
    "print(df_feat[['teacher', 'weighted_avg']])"
   ]
  },
  {
   "cell_type": "code",
   "execution_count": null,
   "metadata": {},
   "outputs": [],
   "source": []
  }
 ],
 "metadata": {
  "kernelspec": {
   "display_name": "Python 3",
   "language": "python",
   "name": "python3"
  },
  "language_info": {
   "codemirror_mode": {
    "name": "ipython",
    "version": 3
   },
   "file_extension": ".py",
   "mimetype": "text/x-python",
   "name": "python",
   "nbconvert_exporter": "python",
   "pygments_lexer": "ipython3",
   "version": "3.10.6"
  },
  "orig_nbformat": 4
 },
 "nbformat": 4,
 "nbformat_minor": 2
}
